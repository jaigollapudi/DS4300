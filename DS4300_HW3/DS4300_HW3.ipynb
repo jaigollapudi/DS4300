{
 "cells": [
  {
   "cell_type": "markdown",
   "id": "dbfdcab8",
   "metadata": {},
   "source": [
    "**Name:** Jai Gollapudi\n",
    "\n",
    "**Assignment:** DS4300 HW3"
   ]
  },
  {
   "cell_type": "markdown",
   "id": "fa20307f",
   "metadata": {},
   "source": [
    "# Data"
   ]
  },
  {
   "cell_type": "markdown",
   "id": "b3b59b03",
   "metadata": {},
   "source": [
    "- I used the `restaurants.json` file provided in the HW3 assignment. \n",
    "- The data was imported to Compass.\n",
    "- The database name is `ds4300_hw3`.\n",
    "- The collection name is `restaurants`.\n"
   ]
  },
  {
   "cell_type": "markdown",
   "id": "3e5aadbd",
   "metadata": {},
   "source": [
    "# Steps"
   ]
  },
  {
   "cell_type": "markdown",
   "id": "975c1469",
   "metadata": {},
   "source": [
    "Please follow these steps to run the program:\n",
    "\n",
    "1. Import `restaurants.json` into MongoDB Compass.\n",
    "2. Run the `ds4300_hw3.ipnyb` file.\n",
    "3. Follow the tutorial and input any of the acceptable inputs in each api call when prompted to do so."
   ]
  },
  {
   "cell_type": "markdown",
   "id": "693c1752",
   "metadata": {},
   "source": [
    "# API and Programmatic Visualizations"
   ]
  },
  {
   "cell_type": "code",
   "execution_count": null,
   "id": "531b9a64",
   "metadata": {},
   "outputs": [],
   "source": [
    "# Importing Libraries\n",
    "import pandas as pd\n",
    "from pymongo import MongoClient\n",
    "import matplotlib.pyplot as plt\n",
    "import plotly.express as px\n",
    "import seaborn as sns\n",
    "from datetime import datetime\n",
    "import plotly.graph_objects as go\n",
    "import numpy as np"
   ]
  },
  {
   "cell_type": "code",
   "execution_count": null,
   "id": "81e7410a",
   "metadata": {},
   "outputs": [],
   "source": [
    "# Setting max columns for display\n",
    "pd.set_option('display.max_columns', None)"
   ]
  },
  {
   "cell_type": "code",
   "execution_count": null,
   "id": "2da05e99",
   "metadata": {},
   "outputs": [],
   "source": [
    "class RestaurantsAPI:\n",
    "    \"\"\"\n",
    "    A class to interact with a MongoDB database containing restaurant data, \n",
    "    providing methods to query the database and visualize the results.\n",
    "    \"\"\"\n",
    "    \n",
    "    def __init__(self, uri=\"mongodb://localhost:27017/\"):\n",
    "        \"\"\"\n",
    "        Initializes the API with a connection to the MongoDB database.\n",
    "        \n",
    "        :param uri: MongoDB URI string.\n",
    "        \"\"\"\n",
    "        self.client = MongoClient(uri) # Change to your uri if not \"mongodb://localhost:27017/\"\n",
    "        self.db = self.client.ds4300_hw3 # 'ds4300_hw3' is the database name\n",
    "        self.collection = self.db.restaurants # 'restaurants' is the collection name\n",
    "\n",
    "    def create_geo_index(self):\n",
    "        \"\"\"\n",
    "        Creates a 2dsphere index on the address.coord field for geospatial queries.\n",
    "        \"\"\"\n",
    "        self.collection.create_index([(\"address.coord\", \"2dsphere\")])\n",
    "\n",
    "    # API Methods for MongoDB queries\n",
    "\n",
    "    def find_by_borough(self, borough):\n",
    "        \"\"\"\n",
    "        Finds restaurants in a specific borough and visualizes the top 10 cuisines.\n",
    "        \n",
    "        :param borough: The borough to search for restaurants.\n",
    "        :return: A DataFrame containing the query results.\n",
    "        \"\"\"\n",
    "        # Check if input is in acceptable boroughs\n",
    "        if borough not in ['Brooklyn', 'Manhattan', 'Queens', 'Bronx', 'Staten Island', 'Missing']:\n",
    "            print('Borough inputted is not in NYC')\n",
    "        else:\n",
    "            cursor = self.collection.find({\"borough\": borough})\n",
    "            df = pd.DataFrame(list(cursor))\n",
    "\n",
    "            # Visualization: Bar chart of top 10 cuisines in the borough\n",
    "            fig = px.bar(df['cuisine'].value_counts().head(10), \n",
    "                         orientation='h', \n",
    "                         labels={'index': 'Cuisine', 'value': 'Number of Restaurants'}, \n",
    "                         title=f'Top 10 Cuisines in {borough}')\n",
    "            fig.update_layout(yaxis={'categoryorder':'total ascending'})\n",
    "            fig.show()\n",
    "\n",
    "            return df\n",
    "\n",
    "        \n",
    "    def find_by_cuisine(self, cuisine):\n",
    "        \"\"\"\n",
    "        Finds restaurants offering a specific cuisine and visualizes distribution by borough.\n",
    "        \n",
    "        :param cuisine: The cuisine to search for.\n",
    "        :return: A DataFrame containing the query results.\n",
    "        \"\"\"\n",
    "        cursor = self.collection.find({\"cuisine\": cuisine})\n",
    "        df = pd.DataFrame(list(cursor))\n",
    "\n",
    "        # Visualization: Bar chart of restaurant distribution by borough\n",
    "        fig = px.bar(df['borough'].value_counts(), \n",
    "                     labels={'index': 'Borough', 'value': 'Number of Restaurants'}, \n",
    "                     title=f'Restaurants Offering {cuisine} by Borough')\n",
    "        fig.update_layout(xaxis={'categoryorder':'total descending'})\n",
    "        fig.show()\n",
    "\n",
    "        return df\n",
    "\n",
    "    \n",
    "    def find_top_rated(self, min_score):\n",
    "        \"\"\"\n",
    "        Finds restaurants where all grade scores are lower than the specified value and visualizes score distribution.\n",
    "        :param min_score: The maximum score to filter by (restaurants with a score lower than this are considered top rated).\n",
    "        :return: A DataFrame containing the filtered query results with scores.\n",
    "        \"\"\"\n",
    "        pipeline = [\n",
    "            {\n",
    "                \"$project\": {\n",
    "                    \"name\": 1,\n",
    "                    \"borough\": 1,\n",
    "                    \"cuisine\": 1,\n",
    "                    \"address\": 1,\n",
    "                    \"filtered_grades\": {\n",
    "                        \"$filter\": {\n",
    "                            \"input\": \"$grades\",\n",
    "                            \"as\": \"grade\",\n",
    "                            \"cond\": {\"$lt\": [\"$$grade.score\", min_score]}\n",
    "                        }\n",
    "                    }\n",
    "                }\n",
    "            },\n",
    "            {\"$match\": {\"filtered_grades.0\": {\"$exists\": True}}},  # Ensure there's at least one grade that meets the condition\n",
    "        ]\n",
    "        cursor = self.collection.aggregate(pipeline)\n",
    "        df = pd.DataFrame(list(cursor))\n",
    "\n",
    "        # Exploding 'filtered_grades' to access individual scores for visualization\n",
    "        df_exploded = df.explode('filtered_grades')\n",
    "        df_exploded['score'] = df_exploded['filtered_grades'].apply(lambda grade: grade['score'] if isinstance(grade, dict) else None)\n",
    "\n",
    "        # Visualization\n",
    "        fig = px.histogram(df_exploded, x='score', title='Distribution of Scores for Top Rated Restaurants',\n",
    "                           nbins=20,  # Adjust bin size as needed\n",
    "                           labels={'score': 'Score'})\n",
    "        fig.update_traces(marker=dict(line=dict(width=2, color='DarkSlateGrey')))\n",
    "        fig.show()\n",
    "\n",
    "        return df_exploded\n",
    "\n",
    "    \n",
    "    def find_by_zipcode(self, zipcode):\n",
    "        \"\"\"\n",
    "        Finds restaurants in a specific zipcode and visualizes the top 10 cuisines.\n",
    "        \n",
    "        :param zipcode: The zipcode to search for restaurants.\n",
    "        :return: A DataFrame containing the query results.\n",
    "        \"\"\"\n",
    "        cursor = self.collection.find({\"address.zipcode\": zipcode})\n",
    "        df = pd.DataFrame(list(cursor))\n",
    "\n",
    "        # Visualization: Bar chart of top 10 cuisines in the zipcode\n",
    "        fig = px.bar(df['cuisine'].value_counts().head(10), \n",
    "                     orientation='h', \n",
    "                     labels={'index': 'Cuisine', 'value': 'Number of Restaurants'}, \n",
    "                     title=f'Top 10 Cuisines in Zipcode {zipcode}')\n",
    "        fig.update_layout(yaxis={'categoryorder':'total ascending'})\n",
    "        fig.show()\n",
    "\n",
    "        return df\n",
    "\n",
    "    \n",
    "    def aggregate_average_scores(self):\n",
    "        \"\"\"\n",
    "        Aggregates restaurants by name and calculates their average score, visualizing the distribution \n",
    "        across dynamically created score ranges in a pie chart.\n",
    "\n",
    "        :return: A DataFrame containing aggregated results with average scores in descending order.\n",
    "        \"\"\"\n",
    "        # Creating pipeline to aggregate average scores\n",
    "        pipeline = [\n",
    "            {\"$unwind\": \"$grades\"},\n",
    "            {\"$group\": {\"_id\": \"$name\", \"averageScore\": {\"$avg\": \"$grades.score\"}}},\n",
    "            {\"$match\": {\"averageScore\": {\"$gt\": 0}}},  # Excluding scores of 0 or missing\n",
    "            {\"$sort\": {\"averageScore\": 1}},\n",
    "        ]\n",
    "        cursor = self.collection.aggregate(pipeline)\n",
    "        df = pd.DataFrame(list(cursor))\n",
    "\n",
    "        # Determining max and min scores\n",
    "        max_score = df['averageScore'].max()\n",
    "        min_score = df['averageScore'].min()\n",
    "\n",
    "        # Calculating the range and creating 10 intervals\n",
    "        score_intervals = np.linspace(min_score, max_score, num=11)\n",
    "\n",
    "        # Creating labels for the intervals\n",
    "        labels = [f\"{round(score_intervals[i], 2)}-{round(score_intervals[i+1], 2)}\" for i in range(len(score_intervals)-1)]\n",
    "\n",
    "        # Counting the number of restaurants in each interval\n",
    "        counts = []\n",
    "        for i in range(len(score_intervals)-1):\n",
    "            count = df[(df['averageScore'] > score_intervals[i]) & (df['averageScore'] <= score_intervals[i+1])].shape[0]\n",
    "            counts.append(count)\n",
    "\n",
    "        # Visualization: Pie chart of average scores distribution across dynamically created ranges\n",
    "        fig = px.pie(names=labels, values=counts,\n",
    "                     title='Distribution of Average Scores Across Restaurants',\n",
    "                     color_discrete_sequence=px.colors.sequential.Plasma, width=1200, height=800)\n",
    "        \n",
    "        fig.update_traces(textinfo='percent+label')\n",
    "        fig.show()\n",
    "\n",
    "        return df\n",
    "    \n",
    "\n",
    "    def count_cuisines_per_borough(self):\n",
    "        \"\"\"\n",
    "        Counts the number of cuisines per borough, visualizing the distribution across boroughs.\n",
    "        \n",
    "        :return: A DataFrame containing the count of cuisines per borough.\n",
    "        \"\"\"\n",
    "        # Creating pipeline to group and sort\n",
    "        pipeline = [\n",
    "            {\"$group\": {\"_id\": {\"borough\": \"$borough\", \"cuisine\": \"$cuisine\"}, \"count\": {\"$sum\": 1}}},\n",
    "            {\"$sort\": {\"count\": -1}}\n",
    "        ]\n",
    "        cursor = self.collection.aggregate(pipeline)\n",
    "        df = pd.DataFrame(list(cursor))\n",
    "\n",
    "        # Extracting the 'borough' from the '_id' field to create a new column 'borough'\n",
    "        df['borough'] = df['_id'].apply(lambda x: x['borough'])\n",
    "        # Extracting the 'cuisine' from the '_id' field to create a new column 'cuisine'\n",
    "        df['cuisine'] = df['_id'].apply(lambda x: x['cuisine'])\n",
    "        # Creating a pivot table to transform the DataFrame \n",
    "        pivot_df = df.pivot_table(index='borough', columns='cuisine', values='count', fill_value=0)\n",
    "\n",
    "\n",
    "        # Visualization: Stacked bar chart for count of cuisines per borough\n",
    "        data = []\n",
    "        for cuisine in pivot_df.columns:\n",
    "            data.append(go.Bar(name=cuisine, x=pivot_df.index, y=pivot_df[cuisine]))\n",
    "\n",
    "        fig = go.Figure(data=data)\n",
    "        fig.update_layout(barmode='stack', xaxis={'categoryorder':'total descending'}, \n",
    "                          title='Count of Cuisines per Borough',\n",
    "                          xaxis_title='Borough',\n",
    "                          yaxis_title='Count of Restaurants',\n",
    "                          legend_title='Cuisine')\n",
    "        fig.update_traces(marker=dict(line=dict(width=0.5, color='black')))  # Lines between bars\n",
    "        fig.show()\n",
    "\n",
    "        return df\n",
    "\n",
    "    \n",
    "    def find_with_geo_near(self, longitude, latitude, max_distance=500):\n",
    "        \"\"\"\n",
    "        Finds restaurants near a specific geographical location within a maximum distance.\n",
    "        \n",
    "        :param longitude: Longitude of the location.\n",
    "        :param latitude: Latitude of the location.\n",
    "        :param max_distance: Maximum distance from the location (in meters).\n",
    "        :return: A DataFrame containing restaurants near the specified location.\n",
    "        \"\"\"\n",
    "        cursor = self.collection.find({\n",
    "            \"address.coord\": {\n",
    "                \"$near\": {\n",
    "                    \"$geometry\": {\n",
    "                        \"type\": \"Point\",\n",
    "                        \"coordinates\": [longitude, latitude]\n",
    "                    },\n",
    "                    \"$maxDistance\": max_distance\n",
    "                }\n",
    "            }\n",
    "        })\n",
    "        df = pd.DataFrame(list(cursor))\n",
    "\n",
    "        # Checking if the DataFrame is not empty and contains 'address' column and 'coord'\n",
    "        if not df.empty and 'address' in df.columns and 'coord' in df.iloc[0]['address']:\n",
    "            # Extracting longitude from 'coord' inside the 'address' column and creating a new 'longitude' column\n",
    "            df['longitude'] = df['address'].apply(lambda x: x['coord'][0] if 'coord' in x else None)\n",
    "            # Extracting latitude from 'coord' inside the 'address' column and creating a new 'latitude' column\n",
    "            df['latitude'] = df['address'].apply(lambda x: x['coord'][1] if 'coord' in x else None)\n",
    "\n",
    "            # Visualization: Scatter plot for restaurants near location\n",
    "            \n",
    "            fig = px.scatter(df, x='longitude', y='latitude',\n",
    "                             hover_name='name', hover_data=['cuisine'],\n",
    "                             title='Restaurants Near Location')\n",
    "            # Adding the specific coordinate as a red dot on the map\n",
    "            fig.add_trace(go.Scatter(\n",
    "                x=[longitude], y=[latitude], \n",
    "                mode='markers', \n",
    "                marker=dict(color='red', size=15, line=dict(width=2, color='DarkRed')),\n",
    "                name='Search Point'\n",
    "            ))\n",
    "            fig.update_traces(marker=dict(size=12, opacity=0.8, line=dict(width=2, color='DarkSlateGrey')))\n",
    "            fig.update_layout(title=f'Restaurants within {max_distance}m of [{latitude}, {longitude}]',\n",
    "                              xaxis_title=\"Longitude\",\n",
    "                              yaxis_title=\"Latitude\")\n",
    "            fig.update_layout(hoverlabel=dict(bgcolor=\"white\", font_size=12, font_family=\"Rockwell\"))\n",
    "            fig.show()\n",
    "\n",
    "        else:\n",
    "            print(\"No data found or 'address.coord' is missing.\")\n",
    "\n",
    "        return df\n",
    "    \n",
    "\n",
    "    def filter_by_grade(self, grade):\n",
    "        \"\"\"\n",
    "        Finds restaurants with a specific grade and visualizes the distribution of these restaurants by cuisine.\n",
    "        \n",
    "        :param grade: The grade to filter restaurants by.\n",
    "        :return: A DataFrame containing restaurants filtered by the specified grade.\n",
    "        \"\"\"\n",
    "        cursor = self.collection.find({\"grades.grade\": grade})\n",
    "        df = pd.DataFrame(list(cursor))\n",
    "        \n",
    "        # Counting of restaurants by cuisine\n",
    "        cuisine_grade_distribution = df['cuisine'].value_counts().head(10)\n",
    "        \n",
    "        # Visualization: Pie chart showing distribution of restaurants by cuisine\n",
    "        fig = px.pie(cuisine_grade_distribution, \n",
    "                     values=cuisine_grade_distribution.values, \n",
    "                     names=cuisine_grade_distribution.index,\n",
    "                     title=f'Distribution of {grade} Grade Restaurants by Cuisine (Top 10)',\n",
    "                     hole=0.5, width = 1200, height = 800)  # Creates a donut-like pie chart\n",
    "        fig.update_traces(textinfo='percent+label', pull=[0.1] * 10)  # Customizing text info and pulling out slices\n",
    "        fig.show()\n",
    "\n",
    "        return df\n",
    "\n",
    "    \n",
    "    def grades_between_dates(self, start_date, end_date, rows=100):\n",
    "        \"\"\"\n",
    "        Retrieves and visualizes the distribution of restaurant health inspection grades between two dates.\n",
    "\n",
    "        :param start_date (datetime): The start date for filtering grades.\n",
    "        :param end_date (datetime): The end date for filtering grades.\n",
    "        :param rows (int): The maximum number of records to return. Defaults to 100.\n",
    "        :return: A DataFrame containing the restaurants and their grades within the specified date range.\n",
    "        \"\"\"\n",
    "        cursor = self.collection.find({\n",
    "            \"grades.date\": {\n",
    "                \"$gte\": start_date,\n",
    "                \"$lte\": end_date\n",
    "            }\n",
    "        }).limit(rows)\n",
    "        df = pd.DataFrame(list(cursor))\n",
    "\n",
    "        if not df.empty:\n",
    "            # Exploding the grades array to work with individual grade entries\n",
    "            df = df.explode('grades')\n",
    "            # Converting grades.date to datetime, and filtering the DataFrame based on the date range\n",
    "            df['grade_date'] = pd.to_datetime(df['grades'].apply(lambda x: x['date']))\n",
    "            df = df[(df['grade_date'] >= start_date) & (df['grade_date'] <= end_date)]\n",
    "\n",
    "            # Ensuring the DataFrame is sorted by date\n",
    "            df.sort_values('grade_date', inplace=True)\n",
    "\n",
    "            # Counting grades by date within the specified range\n",
    "            grade_counts = df['grade_date'].value_counts().sort_index()\n",
    "\n",
    "            # Visualization: Line chart showing trend of grades between the specified dates\n",
    "            fig = px.line(grade_counts, \n",
    "                          x=grade_counts.index, \n",
    "                          y=grade_counts.values, \n",
    "                          title=f'Trend of Grades Between {start_date.strftime(\"%Y-%m-%d\")} and {end_date.strftime(\"%Y-%m-%d\")}')\n",
    "            fig.update_layout(xaxis_title='Date', \n",
    "                              yaxis_title='Number of Grades Given',\n",
    "                              xaxis=dict(tickformat='%Y-%m-%d'))\n",
    "            fig.show()\n",
    "        else:\n",
    "            print(\"No grades found in the specified date range.\")\n",
    "\n",
    "        return df\n",
    "\n",
    "    \n",
    "    def sort_by_name(self):\n",
    "        \"\"\"\n",
    "        Sorts restaurants by their name alphabetically.\n",
    "        \n",
    "        :return: A DataFrame containing restaurants sorted by name.\n",
    "        \"\"\"\n",
    "        cursor = self.collection.find({\"name\": {\"$nin\": [None, \"\", \" \"]}}).sort(\"name\", 1)\n",
    "        df = pd.DataFrame(list(cursor))\n",
    "\n",
    "        # Further filtering out any rows where the name is NaN, missing, or contains only whitespace \n",
    "        df = df[df['name'].str.strip().astype(bool)]\n",
    "\n",
    "        return df"
   ]
  },
  {
   "cell_type": "markdown",
   "id": "1f9f680c",
   "metadata": {},
   "source": [
    "# Tutorial"
   ]
  },
  {
   "cell_type": "markdown",
   "id": "b4bb944f",
   "metadata": {},
   "source": [
    "The API above provides 10 unique methods used to answer 10 unique questions about the restaurants dataset:\n",
    "\n",
    "- **3.0.1:**  Find restaurants in a specific borough \n",
    "- **3.0.2:**  Find all restaurants offering a specific cuisine\n",
    "- **3.0.3:**  Find restaurants with a score lower than a specified value (indicating high quality)\n",
    "- **3.0.4:**  Find all restaurants in a specific zipcode\n",
    "- **3.0.5:**  Aggregate and average scores of restaurants, sorted by average score\n",
    "- **3.0.6:**  Count cuisines per borough\n",
    "- **3.0.7:**  Find restaurants near a specific geographical location\n",
    "- **3.0.8:**  Filter restaurants by a specific grade\n",
    "- **3.0.9:**  Find restaurants with grades assigned during a specific speriod\n",
    "- **3.0.10:**  Sort restaurants by name"
   ]
  },
  {
   "cell_type": "code",
   "execution_count": null,
   "id": "5b32661a",
   "metadata": {},
   "outputs": [],
   "source": [
    "# Instantiating the API\n",
    "api = RestaurantsAPI()\n",
    "# Calling the create_geo_index method\n",
    "api.create_geo_index()"
   ]
  },
  {
   "cell_type": "markdown",
   "id": "2182e32b",
   "metadata": {},
   "source": [
    "### Find restaurants in a specific borough \n",
    "\n",
    "**Acceptable Inputs:** \n",
    "- **borough:** [Brooklyn, Manhattan, Queens, Bronx, Staten Island]\n",
    "<br/> \n",
    "\n",
    "**Output:**\n",
    "- **Visualization:** A horizontal bar chart of the top 10 cuisines in a particular borough\n",
    "- **Data:** A dataframe of all the resturants in a particular borough"
   ]
  },
  {
   "cell_type": "code",
   "execution_count": null,
   "id": "ae6b5ed5",
   "metadata": {},
   "outputs": [],
   "source": [
    "borough = input(\"Enter a Borough: \")\n",
    "print(f'Restaurants in {borough}: ')\n",
    "api.find_by_borough(borough)"
   ]
  },
  {
   "cell_type": "markdown",
   "id": "24e8aefc",
   "metadata": {},
   "source": [
    "**Interpretation:**\n",
    "\n",
    "The bar chart shows the variety and prevalence of different types of cuisine available in one of NYC's borough's restaurants. Typically, american cuisine is the most common, indicating a strong preference or cultural influence in the area, followed by Italian, which also enjoys significant popularity. The presence of diverse cuisines like Irish, French, and Spanish to a lesser extent reflects NYC's cultural diversity and the wide array of dining options available to residents and visitors."
   ]
  },
  {
   "cell_type": "markdown",
   "id": "b93dc069",
   "metadata": {},
   "source": [
    "### Find all restaurants offering a specific cuisine\n",
    "\n",
    "**Acceptable Inputs:** \n",
    "- **cuisine:** [American, Italian, Indian, Japanese, Chinese, Pizza, Mexican, Irish, Russian]\n",
    "<br/> \n",
    "\n",
    "**Output:**\n",
    "- **Visualization:** A vertical bar chart of the distribution of restaurants of a particular cuisine in each borough\n",
    "- **Data:** A dataframe of all the resturants serving a particular cusuine"
   ]
  },
  {
   "cell_type": "code",
   "execution_count": null,
   "id": "52ebbdb0",
   "metadata": {},
   "outputs": [],
   "source": [
    "cuisine = input(\"Enter a Cuisine: \")\n",
    "print(f'Restaurants offering {cuisine}: ')\n",
    "api.find_by_cuisine(cuisine)"
   ]
  },
  {
   "cell_type": "markdown",
   "id": "78fc7eae",
   "metadata": {},
   "source": [
    "**Interpretation:**\n",
    "    \n",
    "This bar chart presents a comparative view of the distribution of restaurants offering a selected cuisine across different boroughs. The chart reveals disparities in restaurant prevalence, with some boroughs showing a higher concentration of this cuisine than others. Such variations could reflect demographic trends, cultural preferences, or economic factors influencing the culinary landscape of the city. \n",
    "\n",
    "NOTE: The 'Missing' category may indicate data incompleteness or unclassified locations."
   ]
  },
  {
   "cell_type": "markdown",
   "id": "eee6ad86",
   "metadata": {},
   "source": [
    "### Find restaurants with a score lower than a specified value (indicating high quality)\n",
    "\n",
    "**Acceptable Inputs:** \n",
    "- **score:** [Any positive integer from 0-75]\n",
    "<br/> \n",
    "\n",
    "**Output:**\n",
    "- **Visualization:** A histogram chart of the distribution of top rated restaurants \n",
    "- **Data:** A dataframe of all the resturants with a score less than the inputted score"
   ]
  },
  {
   "cell_type": "code",
   "execution_count": null,
   "id": "92a1d994",
   "metadata": {},
   "outputs": [],
   "source": [
    "score = int(input(\"Enter a Score: \"))\n",
    "print(f'Top Rated Restaurants (score < {score}):')\n",
    "api.find_top_rated(score)"
   ]
  },
  {
   "cell_type": "markdown",
   "id": "c5f77536",
   "metadata": {},
   "source": [
    "**Interpretation:**\n",
    "\n",
    "The histogram illustrates the distribution of scores for top-rated restaurants, reflecting health inspection results. The majority of restaurants are clustered within the lower score range, suggesting a high level of compliance with standards. A smaller count of restaurants have higher scores, which may indicate areas for improvement. This distribution could be used by restaurant owners to benchmark their performance and by customers to inform their dining choices."
   ]
  },
  {
   "cell_type": "markdown",
   "id": "fc833c1a",
   "metadata": {},
   "source": [
    "### Find all restaurants in a specific zipcode\n",
    "\n",
    "**Acceptable Inputs:** \n",
    "- **zipcode:** [10019, 10014, 10013, 10022, 10036]\n",
    "<br/> \n",
    "\n",
    "**Output:**\n",
    "- **Visualization:** A horizontal bar chart of the distribution of resturants in a zip code by top cuisine. \n",
    "- **Data:** A dataframe of all the resturants in a particular zip code"
   ]
  },
  {
   "cell_type": "code",
   "execution_count": null,
   "id": "e9a4e341",
   "metadata": {},
   "outputs": [],
   "source": [
    "zipcode = input(\"Enter a zipcode: \")\n",
    "print(f'Restaurants in Zipcode {zipcode}:')\n",
    "api.find_by_zipcode(zipcode)"
   ]
  },
  {
   "cell_type": "markdown",
   "id": "c25ecace",
   "metadata": {},
   "source": [
    "**Interpretation:**\n",
    "\n",
    "The chart illustrates the diversity of restaurant cuisines in a specific area, showcasing a broad culinary landscape. The prominence of American and Italian cuisines suggests these are popular dining choices, reflecting either a cultural preference or a larger number of establishments serving these foods. The presence of a variety of other cuisines, including French, Japanese, and Mexican, indicates a rich, cosmopolitan dining scene that caters to a range of tastes and preferences, potentially driven by the demographic makeup and culinary interests of the local population."
   ]
  },
  {
   "cell_type": "markdown",
   "id": "d715dedd",
   "metadata": {},
   "source": [
    "### Aggregate and average scores of restaurants, sorted by average score (ascending)\n",
    "\n",
    "\n",
    "**Acceptable Inputs:** N/A\n",
    "<br/> \n",
    "\n",
    "**Output:**\n",
    "- **Visualization:** A pie chart of the distribution of scores across restaurants\n",
    "- **Data:** A dataframe of all the restaurants with their average scores in ascending order"
   ]
  },
  {
   "cell_type": "code",
   "execution_count": null,
   "id": "f2a3b63d",
   "metadata": {},
   "outputs": [],
   "source": [
    "print(\"Average Scores of Restaurants in Descending order:\")\n",
    "api.aggregate_average_scores()"
   ]
  },
  {
   "cell_type": "markdown",
   "id": "9204382f",
   "metadata": {},
   "source": [
    " **Interpretation:**\n",
    "\n",
    "The pie chart illustrates the distribution of average health inspection scores across different restaurants. The largest segment represents restaurants with scores ranging from 8.1 to 15.53, encompassing the majority at 65.2%, indicating that most establishments fall within this score range. Notably, there is a significant proportion (19.7%) of restaurants scoring between 0.67 to 8.1, which suggests a noteworthy number of restaurants perform exceptionally well in health inspections. The presence of smaller segments indicates fewer restaurants with higher scores, reflecting a trend towards better health standards among the majority of these restaurants."
   ]
  },
  {
   "cell_type": "markdown",
   "id": "383950de",
   "metadata": {},
   "source": [
    "### Count cuisines per borough\n",
    "\n",
    "**Acceptable Inputs:** N/A\n",
    "<br/> \n",
    "\n",
    "**Output:**\n",
    "- **Visualization:** A stacked bar chart of all the cuisines in each borough\n",
    "- **Data:** A dataframe of the count of the number of resturants of each cuisine in each borough\n"
   ]
  },
  {
   "cell_type": "code",
   "execution_count": null,
   "id": "62555808",
   "metadata": {},
   "outputs": [],
   "source": [
    "print(\"Count of Cuisines per Borough:\")\n",
    "api.count_cuisines_per_borough()"
   ]
  },
  {
   "cell_type": "markdown",
   "id": "edc122fc",
   "metadata": {},
   "source": [
    "**Interpretation:**\n",
    "\n",
    "The stacked bar chart \"Count of Cuisines per Borough\" provides a visual representation of the variety of cuisines available in each of New York City's boroughs. The chart's multicolored layers illustrate the rich diversity of culinary options, revealing not only the quantity but also the food choices. The relatively larger height of the Manhattan bar for American food suggests that other areas might be more diverse in terms of options."
   ]
  },
  {
   "cell_type": "markdown",
   "id": "7a3a73c1",
   "metadata": {},
   "source": [
    "### Find restaurants near a specific geographical location\n",
    "\n",
    "**Acceptable Inputs:** \n",
    "- **coordinates:** (-73.856077, 40.848447), (-73.7796156, 40.7298006), (-73.78309349999999, 40.8374725) **[Note: Don't \n",
    "include the parentheses]**\n",
    "- **distance:** Any positive integer from 10 to 1000 (restricting to 1000m for better visual appearance)\n",
    "<br/> \n",
    "\n",
    "**Output:**\n",
    "- **Visualization:** A scatter plot of the resturant within a specified distance to a coordinate\n",
    "- **Data:** A dataframe of all the resturants within a specified distance to a coordinate\n"
   ]
  },
  {
   "cell_type": "code",
   "execution_count": null,
   "id": "7f75486d",
   "metadata": {
    "scrolled": true
   },
   "outputs": [],
   "source": [
    "coordinates = (input(\"Enter coordinates : \")).split(', ')\n",
    "distance = int(input(\"Enter a distance: \")) \n",
    "latitude = float(coordinates[0])\n",
    "longitude = float(coordinates[1])\n",
    "api.find_with_geo_near(latitude, longitude, distance)"
   ]
  },
  {
   "cell_type": "markdown",
   "id": "46ad88a1",
   "metadata": {},
   "source": [
    "**Interpretation:**\n",
    "\n",
    "The scatter plot shows the geographic distribution of restaurants in proximity to a specified coordinate location, marked as \"Search Point\" in red. The visualization enables one to quickly assess the density and clustering of dining options within a certain area, which could be useful for someone looking to explore the culinary scene nearby. The red marker effectively highlights the reference point, providing a clear anchor for spatial orientation on the map."
   ]
  },
  {
   "cell_type": "markdown",
   "id": "c8f42caa",
   "metadata": {},
   "source": [
    "### Filter restaurants by a specific grade\n",
    "\n",
    "**Acceptable Inputs:** \n",
    "- **grade:** [A, B, C]\n",
    "<br/> \n",
    "\n",
    "**Output:**\n",
    "- **Visualization:** A pie chart showing the distribution of a particular grade of restaurants by cuisine\n",
    "- **Data:** A dataframe of each restaurant of a particular grade\n"
   ]
  },
  {
   "cell_type": "code",
   "execution_count": null,
   "id": "734ab4c8",
   "metadata": {},
   "outputs": [],
   "source": [
    "grade = input(\"Enter a grade: \").upper()\n",
    "print(f'Restaurants with Grade {grade}:')\n",
    "api.filter_by_grade(grade)"
   ]
  },
  {
   "cell_type": "markdown",
   "id": "bd82b572",
   "metadata": {},
   "source": [
    "**Interpretation:**\n",
    "\n",
    "The pie chart displays the proportions of top-rated restaurants by cuisine type. The variety of cuisines represented, including Italian, Mexican, and Japanese, showcases the diverse array of high-quality dining options available to consumers. The chart also suggests the broad palate preferences of the area's patrons, who value a mix of both traditional and international flavors."
   ]
  },
  {
   "cell_type": "markdown",
   "id": "b364f310",
   "metadata": {},
   "source": [
    "### Find restaurants with grades assigned during a specific speriod \n",
    "\n",
    "**Acceptable Inputs:** \n",
    "- **start_date:** Any date after 2011-02-15 in YYYY-MM-DD format\n",
    "- **end_date:** Any date before 2015-01-20 in YYYY-MM-DD format\n",
    "<br/> \n",
    "\n",
    "**Output:**\n",
    "- **Visualization:** A line chart showing the number of restaurants awarded a grade between specific dates **(Note: Limiting to 100 rows for better visual appearance)**\n",
    "- **Data:** A dataframe of each restaurant awarded a grade between specific dates "
   ]
  },
  {
   "cell_type": "code",
   "execution_count": null,
   "id": "fe9e48ea",
   "metadata": {},
   "outputs": [],
   "source": [
    "start_date = input(\"Enter a start date (YYYY-MM-DD): \")\n",
    "end_date = input(\"Enter an end date (YYYY-MM-DD): \")\n",
    "print(f'Restaurants with Recent Grades between {start_date} and {end_date}:')\n",
    "\n",
    "# Convert input strings to datetime objects\n",
    "start_date_dt = datetime.strptime(start_date, '%Y-%m-%d')\n",
    "end_date_dt = datetime.strptime(end_date, '%Y-%m-%d')\n",
    "\n",
    "api.grades_between_dates(start_date_dt, end_date_dt)"
   ]
  },
  {
   "cell_type": "markdown",
   "id": "7592c2aa",
   "metadata": {},
   "source": [
    "**Interpretation:**\n",
    "\n",
    "The line chart displays the frequency of grades awarded to restaurants over a specific period. The plot shows fluctuations in the number of grades given on different dates, with some peaks suggesting days on which a higher number of inspections occurred or a higher volume of grades were assigned. The overall trend could indicate varying levels of inspection activity over time or could reflect seasonal patterns in inspection schedules. This information might be useful for understanding the inspection processes or for restaurants preparing for periods of heightened inspection activity."
   ]
  },
  {
   "cell_type": "markdown",
   "id": "6fe82547",
   "metadata": {},
   "source": [
    "### Sort restaurants by name\n",
    "\n",
    "**Acceptable Inputs:** N/A\n",
    "<br/> \n",
    "\n",
    "**Output:**\n",
    "- **Visualization:** N/A\n",
    "- **Data:** A dataframe of each restaurant sorted in descending order by name\n"
   ]
  },
  {
   "cell_type": "code",
   "execution_count": null,
   "id": "3d185bdb",
   "metadata": {},
   "outputs": [],
   "source": [
    "print(\"\\nRestaurants Sorted by Name:\")\n",
    "api.sort_by_name()"
   ]
  },
  {
   "cell_type": "markdown",
   "id": "19d98ec8",
   "metadata": {},
   "source": [
    "**Interpretation:**\n",
    "\n",
    "The output shows a DataFrame with restaurant data sorted alphabetically by the restaurant's name. The data includes unique identifiers, addresses with geocoordinates, borough locations, cuisine types, health grades, and restaurant names. "
   ]
  }
 ],
 "metadata": {
  "kernelspec": {
   "display_name": "Python 3 (ipykernel)",
   "language": "python",
   "name": "python3"
  },
  "language_info": {
   "codemirror_mode": {
    "name": "ipython",
    "version": 3
   },
   "file_extension": ".py",
   "mimetype": "text/x-python",
   "name": "python",
   "nbconvert_exporter": "python",
   "pygments_lexer": "ipython3",
   "version": "3.9.13"
  },
  "toc": {
   "base_numbering": 1,
   "nav_menu": {},
   "number_sections": true,
   "sideBar": true,
   "skip_h1_title": false,
   "title_cell": "Table of Contents",
   "title_sidebar": "Contents",
   "toc_cell": false,
   "toc_position": {},
   "toc_section_display": true,
   "toc_window_display": false
  }
 },
 "nbformat": 4,
 "nbformat_minor": 5
}
